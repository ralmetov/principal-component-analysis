{
 "cells": [
  {
   "attachments": {},
   "cell_type": "markdown",
   "metadata": {},
   "source": [
    "# Сингулярные разложения"
   ]
  },
  {
   "attachments": {},
   "cell_type": "markdown",
   "metadata": {},
   "source": [
    "## Импорт библиотек"
   ]
  },
  {
   "cell_type": "code",
   "execution_count": 1,
   "metadata": {},
   "outputs": [],
   "source": [
    "import numpy as np\n",
    "import pandas as pd\n",
    "import matplotlib.pyplot as plt"
   ]
  },
  {
   "attachments": {},
   "cell_type": "markdown",
   "metadata": {},
   "source": [
    "## Немного теории\n",
    "$$ X = U \\Sigma V^{-1}$$"
   ]
  },
  {
   "attachments": {},
   "cell_type": "markdown",
   "metadata": {},
   "source": []
  },
  {
   "cell_type": "code",
   "execution_count": 2,
   "metadata": {},
   "outputs": [],
   "source": [
    "X = np.array([\n",
    "    [2,-1],\n",
    "    [3, 2],\n",
    "    [5,-1],\n",
    "    [-1,2]\n",
    "    ])"
   ]
  },
  {
   "cell_type": "code",
   "execution_count": 7,
   "metadata": {},
   "outputs": [
    {
     "data": {
      "text/plain": [
       "(array([6.2695369, 3.1133434]),\n",
       " array([[-0.99480159,  0.10183217],\n",
       "        [-0.10183217, -0.99480159]]))"
      ]
     },
     "execution_count": 7,
     "metadata": {},
     "output_type": "execute_result"
    }
   ],
   "source": [
    "U, Sigma, V = np.linalg.svd(X)\n",
    "Sigma, V"
   ]
  },
  {
   "cell_type": "markdown",
   "metadata": {},
   "source": [
    "### Свойства ортогональных матриц\n"
   ]
  },
  {
   "attachments": {},
   "cell_type": "markdown",
   "metadata": {},
   "source": [
    "#### Определитель\n",
    "\n",
    "$$ |U| = \\pm 1, \\qquad |V| = \\pm 1 $$"
   ]
  },
  {
   "cell_type": "code",
   "execution_count": 11,
   "metadata": {},
   "outputs": [
    {
     "data": {
      "text/plain": [
       "1.0"
      ]
     },
     "execution_count": 11,
     "metadata": {},
     "output_type": "execute_result"
    }
   ],
   "source": [
    "np.linalg.det(V)"
   ]
  },
  {
   "attachments": {},
   "cell_type": "markdown",
   "metadata": {},
   "source": [
    "#### Обратная матрица\n",
    "\n",
    "$$ U^{-1} = U^{T}, \\qquad V^{-1} = V^{T} $$"
   ]
  },
  {
   "cell_type": "code",
   "execution_count": 14,
   "metadata": {},
   "outputs": [
    {
     "data": {
      "text/plain": [
       "(array([[-0.3335869 ,  0.25411179, -0.81420001,  0.40152873],\n",
       "        [-0.44353203, -0.73718167, -0.26353743, -0.43633765],\n",
       "        [-0.80960368,  0.15598689,  0.5056555 ,  0.25401277],\n",
       "        [ 0.19115701, -0.60634847,  0.10926518,  0.7641084 ]]),\n",
       " array([[-0.3335869 , -0.44353203, -0.80960368,  0.19115701],\n",
       "        [ 0.25411179, -0.73718167,  0.15598689, -0.60634847],\n",
       "        [-0.81420001, -0.26353743,  0.5056555 ,  0.10926518],\n",
       "        [ 0.40152873, -0.43633765,  0.25401277,  0.7641084 ]]),\n",
       " array([[-0.3335869 , -0.44353203, -0.80960368,  0.19115701],\n",
       "        [ 0.25411179, -0.73718167,  0.15598689, -0.60634847],\n",
       "        [-0.81420001, -0.26353743,  0.5056555 ,  0.10926518],\n",
       "        [ 0.40152873, -0.43633765,  0.25401277,  0.7641084 ]]))"
      ]
     },
     "execution_count": 14,
     "metadata": {},
     "output_type": "execute_result"
    }
   ],
   "source": [
    "U, np.linalg.inv(U), U.T"
   ]
  },
  {
   "attachments": {},
   "cell_type": "markdown",
   "metadata": {},
   "source": [
    "#### Ортонормированный базис\n",
    "\n",
    "$$ u_i \\perp u_j, \\qquad |u_i| = 1 $$\n",
    "$$ v_i \\perp v_j, \\qquad |v_i| = 1 $$"
   ]
  },
  {
   "cell_type": "code",
   "execution_count": 22,
   "metadata": {},
   "outputs": [
    {
     "data": {
      "text/plain": [
       "(0.0, 1.0)"
      ]
     },
     "execution_count": 22,
     "metadata": {},
     "output_type": "execute_result"
    }
   ],
   "source": [
    "np.dot(U[:,0], U[:,1]), np.dot(V[:,0], V[:,0])"
   ]
  },
  {
   "attachments": {},
   "cell_type": "markdown",
   "metadata": {},
   "source": [
    "### Проверка разложения"
   ]
  },
  {
   "cell_type": "code",
   "execution_count": 23,
   "metadata": {},
   "outputs": [
    {
     "data": {
      "text/plain": [
       "(array([[-0.3335869 ,  0.25411179, -0.81420001,  0.40152873],\n",
       "        [-0.44353203, -0.73718167, -0.26353743, -0.43633765],\n",
       "        [-0.80960368,  0.15598689,  0.5056555 ,  0.25401277],\n",
       "        [ 0.19115701, -0.60634847,  0.10926518,  0.7641084 ]]),\n",
       " array([6.2695369, 3.1133434]),\n",
       " array([[-0.99480159,  0.10183217],\n",
       "        [-0.10183217, -0.99480159]]))"
      ]
     },
     "execution_count": 23,
     "metadata": {},
     "output_type": "execute_result"
    }
   ],
   "source": [
    "U, Sigma, V"
   ]
  },
  {
   "attachments": {},
   "cell_type": "markdown",
   "metadata": {},
   "source": [
    "#### Преобразование массива в матрицу"
   ]
  },
  {
   "cell_type": "code",
   "execution_count": 28,
   "metadata": {},
   "outputs": [],
   "source": [
    "def array_to_matr(array, n):\n",
    "    matr = np.zeros((n, len(array)))\n",
    "    for i in range(len(array)):\n",
    "        matr[i][i] = array[i]\n",
    "    return matr"
   ]
  },
  {
   "cell_type": "code",
   "execution_count": 31,
   "metadata": {},
   "outputs": [
    {
     "name": "stdout",
     "output_type": "stream",
     "text": [
      "[[6.2695369 0.       ]\n",
      " [0.        3.1133434]\n",
      " [0.        0.       ]\n",
      " [0.        0.       ]]\n"
     ]
    }
   ],
   "source": [
    "Sigma_matr = array_to_matr(Sigma, len(X))\n",
    "print(Sigma_matr)"
   ]
  },
  {
   "attachments": {},
   "cell_type": "markdown",
   "metadata": {},
   "source": [
    "#### Проверка"
   ]
  },
  {
   "cell_type": "code",
   "execution_count": 34,
   "metadata": {},
   "outputs": [
    {
     "data": {
      "text/plain": [
       "(array([[ 2, -1],\n",
       "        [ 3,  2],\n",
       "        [ 5, -1],\n",
       "        [-1,  2]]),\n",
       " array([[ 2., -1.],\n",
       "        [ 3.,  2.],\n",
       "        [ 5., -1.],\n",
       "        [-1.,  2.]]))"
      ]
     },
     "execution_count": 34,
     "metadata": {},
     "output_type": "execute_result"
    }
   ],
   "source": [
    "X, np.dot(U,np.dot(Sigma_matr, V)) # матрица V в numpy поучается уже обращенная!!!"
   ]
  },
  {
   "attachments": {},
   "cell_type": "markdown",
   "metadata": {},
   "source": [
    "### Переход к сингулярному базису\n",
    "\n",
    "$$ X = U \\Sigma V^{-1} $$\n",
    "\n",
    "$$ XV = U \\Sigma $$"
   ]
  },
  {
   "cell_type": "code",
   "execution_count": 35,
   "metadata": {},
   "outputs": [
    {
     "data": {
      "text/plain": [
       "array([[-2.09143535,  0.79113726],\n",
       "       [-2.78074045, -2.29509969],\n",
       "       [-5.07584013,  0.48564076],\n",
       "       [ 1.19846593, -1.88777102]])"
      ]
     },
     "execution_count": 35,
     "metadata": {},
     "output_type": "execute_result"
    }
   ],
   "source": [
    "S = np.dot(X, V.T)\n",
    "S"
   ]
  },
  {
   "cell_type": "markdown",
   "metadata": {},
   "source": [
    "## Главные направления"
   ]
  },
  {
   "cell_type": "code",
   "execution_count": 53,
   "metadata": {},
   "outputs": [
    {
     "data": {
      "text/html": [
       "<div>\n",
       "<style scoped>\n",
       "    .dataframe tbody tr th:only-of-type {\n",
       "        vertical-align: middle;\n",
       "    }\n",
       "\n",
       "    .dataframe tbody tr th {\n",
       "        vertical-align: top;\n",
       "    }\n",
       "\n",
       "    .dataframe thead th {\n",
       "        text-align: right;\n",
       "    }\n",
       "</style>\n",
       "<table border=\"1\" class=\"dataframe\">\n",
       "  <thead>\n",
       "    <tr style=\"text-align: right;\">\n",
       "      <th></th>\n",
       "      <th>x1</th>\n",
       "      <th>x2</th>\n",
       "    </tr>\n",
       "  </thead>\n",
       "  <tbody>\n",
       "    <tr>\n",
       "      <th>0</th>\n",
       "      <td>5.127884</td>\n",
       "      <td>5.621868</td>\n",
       "    </tr>\n",
       "    <tr>\n",
       "      <th>1</th>\n",
       "      <td>4.118981</td>\n",
       "      <td>4.722387</td>\n",
       "    </tr>\n",
       "    <tr>\n",
       "      <th>2</th>\n",
       "      <td>3.312904</td>\n",
       "      <td>4.339551</td>\n",
       "    </tr>\n",
       "    <tr>\n",
       "      <th>3</th>\n",
       "      <td>7.245514</td>\n",
       "      <td>7.207303</td>\n",
       "    </tr>\n",
       "    <tr>\n",
       "      <th>4</th>\n",
       "      <td>5.235659</td>\n",
       "      <td>5.669789</td>\n",
       "    </tr>\n",
       "    <tr>\n",
       "      <th>...</th>\n",
       "      <td>...</td>\n",
       "      <td>...</td>\n",
       "    </tr>\n",
       "    <tr>\n",
       "      <th>95</th>\n",
       "      <td>6.968994</td>\n",
       "      <td>6.190895</td>\n",
       "    </tr>\n",
       "    <tr>\n",
       "      <th>96</th>\n",
       "      <td>3.115119</td>\n",
       "      <td>2.595740</td>\n",
       "    </tr>\n",
       "    <tr>\n",
       "      <th>97</th>\n",
       "      <td>0.152080</td>\n",
       "      <td>0.995676</td>\n",
       "    </tr>\n",
       "    <tr>\n",
       "      <th>98</th>\n",
       "      <td>8.377515</td>\n",
       "      <td>9.123881</td>\n",
       "    </tr>\n",
       "    <tr>\n",
       "      <th>99</th>\n",
       "      <td>5.377515</td>\n",
       "      <td>5.259987</td>\n",
       "    </tr>\n",
       "  </tbody>\n",
       "</table>\n",
       "<p>100 rows × 2 columns</p>\n",
       "</div>"
      ],
      "text/plain": [
       "          x1        x2\n",
       "0   5.127884  5.621868\n",
       "1   4.118981  4.722387\n",
       "2   3.312904  4.339551\n",
       "3   7.245514  7.207303\n",
       "4   5.235659  5.669789\n",
       "..       ...       ...\n",
       "95  6.968994  6.190895\n",
       "96  3.115119  2.595740\n",
       "97  0.152080  0.995676\n",
       "98  8.377515  9.123881\n",
       "99  5.377515  5.259987\n",
       "\n",
       "[100 rows x 2 columns]"
      ]
     },
     "execution_count": 53,
     "metadata": {},
     "output_type": "execute_result"
    }
   ],
   "source": [
    "# чтение данных\n",
    "df = pd.read_csv('c-data-1.csv', names =  [\"x1\", \"x2\"])\n",
    "df"
   ]
  },
  {
   "cell_type": "code",
   "execution_count": 54,
   "metadata": {},
   "outputs": [
    {
     "data": {
      "text/html": [
       "<div>\n",
       "<style scoped>\n",
       "    .dataframe tbody tr th:only-of-type {\n",
       "        vertical-align: middle;\n",
       "    }\n",
       "\n",
       "    .dataframe tbody tr th {\n",
       "        vertical-align: top;\n",
       "    }\n",
       "\n",
       "    .dataframe thead th {\n",
       "        text-align: right;\n",
       "    }\n",
       "</style>\n",
       "<table border=\"1\" class=\"dataframe\">\n",
       "  <thead>\n",
       "    <tr style=\"text-align: right;\">\n",
       "      <th></th>\n",
       "      <th>x1</th>\n",
       "      <th>x2</th>\n",
       "    </tr>\n",
       "  </thead>\n",
       "  <tbody>\n",
       "    <tr>\n",
       "      <th>count</th>\n",
       "      <td>100.000000</td>\n",
       "      <td>100.000000</td>\n",
       "    </tr>\n",
       "    <tr>\n",
       "      <th>mean</th>\n",
       "      <td>6.042312</td>\n",
       "      <td>6.259448</td>\n",
       "    </tr>\n",
       "    <tr>\n",
       "      <th>std</th>\n",
       "      <td>3.743332</td>\n",
       "      <td>3.219958</td>\n",
       "    </tr>\n",
       "    <tr>\n",
       "      <th>min</th>\n",
       "      <td>-0.915139</td>\n",
       "      <td>-0.662178</td>\n",
       "    </tr>\n",
       "    <tr>\n",
       "      <th>25%</th>\n",
       "      <td>3.026308</td>\n",
       "      <td>3.669357</td>\n",
       "    </tr>\n",
       "    <tr>\n",
       "      <th>50%</th>\n",
       "      <td>6.534700</td>\n",
       "      <td>6.408228</td>\n",
       "    </tr>\n",
       "    <tr>\n",
       "      <th>75%</th>\n",
       "      <td>9.265360</td>\n",
       "      <td>9.019165</td>\n",
       "    </tr>\n",
       "    <tr>\n",
       "      <th>max</th>\n",
       "      <td>11.941842</td>\n",
       "      <td>12.262044</td>\n",
       "    </tr>\n",
       "  </tbody>\n",
       "</table>\n",
       "</div>"
      ],
      "text/plain": [
       "               x1          x2\n",
       "count  100.000000  100.000000\n",
       "mean     6.042312    6.259448\n",
       "std      3.743332    3.219958\n",
       "min     -0.915139   -0.662178\n",
       "25%      3.026308    3.669357\n",
       "50%      6.534700    6.408228\n",
       "75%      9.265360    9.019165\n",
       "max     11.941842   12.262044"
      ]
     },
     "execution_count": 54,
     "metadata": {},
     "output_type": "execute_result"
    }
   ],
   "source": [
    "df.describe()"
   ]
  },
  {
   "cell_type": "code",
   "execution_count": 55,
   "metadata": {},
   "outputs": [
    {
     "data": {
      "image/png": "[encoded data removed]",
      "text/plain": [
       "<Figure size 500x500 with 1 Axes>"
      ]
     },
     "metadata": {},
     "output_type": "display_data"
    }
   ],
   "source": [
    "# Визуализаци данных\n",
    "x = df['x1']\n",
    "y = df['x2']\n",
    "\n",
    "l = min(min(x), min(y))\n",
    "r = max(max(x), max(y))\n",
    "\n",
    "plt.figure(figsize=(5,5))\n",
    "\n",
    "plt.xlim(l,r)\n",
    "plt.ylim(l,r)\n",
    "\n",
    "plt.grid()\n",
    "plt.plot(0,0,'o',color='black')\n",
    "plt.plot(np.arange(l,r+1),np.arange(l,r+1)*0, '-', color='black')\n",
    "plt.plot(np.arange(l,r+1)*0,np.arange(l,r+1), '-', color='black')\n",
    "\n",
    "plt.plot(x, y, 'o')\n",
    "\n",
    "plt.show()"
   ]
  },
  {
   "cell_type": "code",
   "execution_count": 60,
   "metadata": {},
   "outputs": [
    {
     "data": {
      "text/plain": [
       "(array([[-7.62613058e-02, -5.31935059e-02, -4.67232109e-02, ...,\n",
       "         -2.18189768e-03, -1.18065393e-01, -7.57582530e-02],\n",
       "        [-6.27161427e-02, -6.29908537e-02, -1.07363386e-01, ...,\n",
       "         -8.32445509e-02, -8.96089555e-02,  1.14525492e-03],\n",
       "        [-5.42656294e-02, -1.03753044e-01,  9.87638542e-01, ...,\n",
       "         -8.28406420e-03, -1.33374867e-02, -2.78094102e-03],\n",
       "        ...,\n",
       "        [-8.11584082e-03, -8.28745564e-02, -8.28245134e-03, ...,\n",
       "          9.93502276e-01, -6.73653049e-03,  2.58352013e-04],\n",
       "        [-1.24161029e-01, -8.09536803e-02, -1.33412325e-02, ...,\n",
       "         -6.74078096e-03,  9.80496220e-01, -7.92881335e-03],\n",
       "        [-7.54853826e-02,  6.54805596e-03, -2.78455362e-03, ...,\n",
       "          2.55568179e-04, -7.93186850e-03,  9.94621351e-01]]),\n",
       " array([99.65054089,  7.24412965]),\n",
       " array([[-0.71045197, -0.70374569],\n",
       "        [ 0.70374569, -0.71045197]]))"
      ]
     },
     "execution_count": 60,
     "metadata": {},
     "output_type": "execute_result"
    }
   ],
   "source": [
    "# Сингулярное разложение\n",
    "\n",
    "X = df.to_numpy()\n",
    "\n",
    "U, Sigma, V = np.linalg.svd(X)\n",
    "\n",
    "U, Sigma, V"
   ]
  },
  {
   "cell_type": "code",
   "execution_count": 64,
   "metadata": {},
   "outputs": [
    {
     "data": {
      "image/png": "[encoded data removed]",
      "text/plain": [
       "<Figure size 500x500 with 1 Axes>"
      ]
     },
     "metadata": {},
     "output_type": "display_data"
    }
   ],
   "source": [
    "# Сингулярный базис\n",
    "\n",
    "x = df['x1']\n",
    "y = df['x2']\n",
    "\n",
    "l = min(min(x), min(y))\n",
    "r = max(max(x), max(y))\n",
    "\n",
    "plt.figure(figsize=(5,5))\n",
    "\n",
    "plt.xlim(l,r)\n",
    "plt.ylim(l,r)\n",
    "\n",
    "plt.grid()\n",
    "plt.plot(0,0,'o',color='black')\n",
    "plt.plot(np.arange(l,r+1),np.arange(l,r+1)*0, '-', color='black')\n",
    "plt.plot(np.arange(l,r+1)*0,np.arange(l,r+1), '-', color='black')\n",
    "\n",
    "plt.plot(x, y, 'o')\n",
    "\n",
    "plt.plot(np.arange(l,r+1),(V[0][1]/V[0][0])*np.arange(l,r+1), '-', color='grey')\n",
    "plt.plot(np.arange(l,r+1),(V[1][1]/V[1][0])*np.arange(l,r+1), '-', color='grey')\n",
    "\n",
    "plt.show()"
   ]
  },
  {
   "cell_type": "code",
   "execution_count": 69,
   "metadata": {},
   "outputs": [
    {
     "data": {
      "text/html": [
       "<div>\n",
       "<style scoped>\n",
       "    .dataframe tbody tr th:only-of-type {\n",
       "        vertical-align: middle;\n",
       "    }\n",
       "\n",
       "    .dataframe tbody tr th {\n",
       "        vertical-align: top;\n",
       "    }\n",
       "\n",
       "    .dataframe thead th {\n",
       "        text-align: right;\n",
       "    }\n",
       "</style>\n",
       "<table border=\"1\" class=\"dataframe\">\n",
       "  <thead>\n",
       "    <tr style=\"text-align: right;\">\n",
       "      <th></th>\n",
       "      <th>s1</th>\n",
       "      <th>s2</th>\n",
       "    </tr>\n",
       "  </thead>\n",
       "  <tbody>\n",
       "    <tr>\n",
       "      <th>0</th>\n",
       "      <td>-7.599480</td>\n",
       "      <td>-0.385341</td>\n",
       "    </tr>\n",
       "    <tr>\n",
       "      <th>1</th>\n",
       "      <td>-6.249698</td>\n",
       "      <td>-0.456314</td>\n",
       "    </tr>\n",
       "    <tr>\n",
       "      <th>2</th>\n",
       "      <td>-5.407599</td>\n",
       "      <td>-0.751600</td>\n",
       "    </tr>\n",
       "    <tr>\n",
       "      <th>3</th>\n",
       "      <td>-10.219698</td>\n",
       "      <td>-0.021443</td>\n",
       "    </tr>\n",
       "    <tr>\n",
       "      <th>4</th>\n",
       "      <td>-7.709774</td>\n",
       "      <td>-0.343541</td>\n",
       "    </tr>\n",
       "    <tr>\n",
       "      <th>...</th>\n",
       "      <td>...</td>\n",
       "      <td>...</td>\n",
       "    </tr>\n",
       "    <tr>\n",
       "      <th>95</th>\n",
       "      <td>-9.307952</td>\n",
       "      <td>0.506066</td>\n",
       "    </tr>\n",
       "    <tr>\n",
       "      <th>96</th>\n",
       "      <td>-4.039883</td>\n",
       "      <td>0.348103</td>\n",
       "    </tr>\n",
       "    <tr>\n",
       "      <th>97</th>\n",
       "      <td>-0.808748</td>\n",
       "      <td>-0.600354</td>\n",
       "    </tr>\n",
       "    <tr>\n",
       "      <th>98</th>\n",
       "      <td>-12.372714</td>\n",
       "      <td>-0.586439</td>\n",
       "    </tr>\n",
       "    <tr>\n",
       "      <th>99</th>\n",
       "      <td>-7.522159</td>\n",
       "      <td>0.047435</td>\n",
       "    </tr>\n",
       "  </tbody>\n",
       "</table>\n",
       "<p>100 rows × 2 columns</p>\n",
       "</div>"
      ],
      "text/plain": [
       "           s1        s2\n",
       "0   -7.599480 -0.385341\n",
       "1   -6.249698 -0.456314\n",
       "2   -5.407599 -0.751600\n",
       "3  -10.219698 -0.021443\n",
       "4   -7.709774 -0.343541\n",
       "..        ...       ...\n",
       "95  -9.307952  0.506066\n",
       "96  -4.039883  0.348103\n",
       "97  -0.808748 -0.600354\n",
       "98 -12.372714 -0.586439\n",
       "99  -7.522159  0.047435\n",
       "\n",
       "[100 rows x 2 columns]"
      ]
     },
     "execution_count": 69,
     "metadata": {},
     "output_type": "execute_result"
    }
   ],
   "source": [
    "# Переход к сингулярному базису\n",
    "\n",
    "S = np.dot(X, V.T)\n",
    "df_S = pd.DataFrame(S, columns = ['s1', 's2'])\n",
    "df_S"
   ]
  },
  {
   "cell_type": "code",
   "execution_count": 70,
   "metadata": {},
   "outputs": [
    {
     "data": {
      "image/png": "[encoded data removed]",
      "text/plain": [
       "<Figure size 500x500 with 1 Axes>"
      ]
     },
     "metadata": {},
     "output_type": "display_data"
    }
   ],
   "source": [
    "# Визуализаци данных\n",
    "x = df_S['s1']\n",
    "y = df_S['s2']\n",
    "\n",
    "l = min(min(x), min(y))\n",
    "r = max(max(x), max(y))\n",
    "\n",
    "plt.figure(figsize=(5,5))\n",
    "\n",
    "plt.xlim(l,r)\n",
    "plt.ylim(l,r)\n",
    "\n",
    "plt.grid()\n",
    "plt.plot(0,0,'o',color='black')\n",
    "plt.plot(np.arange(l,r+1),np.arange(l,r+1)*0, '-', color='black')\n",
    "plt.plot(np.arange(l,r+1)*0,np.arange(l,r+1), '-', color='black')\n",
    "\n",
    "plt.plot(x, y, 'o')\n",
    "\n",
    "plt.show()"
   ]
  },
  {
   "cell_type": "code",
   "execution_count": 71,
   "metadata": {},
   "outputs": [
    {
     "data": {
      "image/png": "[encoded data removed]",
      "text/plain": [
       "<Figure size 500x500 with 1 Axes>"
      ]
     },
     "metadata": {},
     "output_type": "display_data"
    }
   ],
   "source": [
    "# Проекция данных на главное направление\n",
    "\n",
    "# Визуализаци данных\n",
    "x = df_S['s1']\n",
    "y = df_S['s2']\n",
    "\n",
    "l = min(min(x), min(y))\n",
    "r = max(max(x), max(y))\n",
    "\n",
    "plt.figure(figsize=(5,5))\n",
    "\n",
    "plt.xlim(l,r)\n",
    "plt.ylim(l,r)\n",
    "\n",
    "plt.grid()\n",
    "plt.plot(0,0,'o',color='black')\n",
    "plt.plot(np.arange(l,r+1),np.arange(l,r+1)*0, '-', color='black')\n",
    "plt.plot(np.arange(l,r+1)*0,np.arange(l,r+1), '-', color='black')\n",
    "\n",
    "plt.plot(x, y, 'o')\n",
    "plt.plot(x, y*0, '.', color='red')\n",
    "\n",
    "plt.show()"
   ]
  },
  {
   "cell_type": "code",
   "execution_count": 73,
   "metadata": {},
   "outputs": [
    {
     "data": {
      "text/html": [
       "<div>\n",
       "<style scoped>\n",
       "    .dataframe tbody tr th:only-of-type {\n",
       "        vertical-align: middle;\n",
       "    }\n",
       "\n",
       "    .dataframe tbody tr th {\n",
       "        vertical-align: top;\n",
       "    }\n",
       "\n",
       "    .dataframe thead th {\n",
       "        text-align: right;\n",
       "    }\n",
       "</style>\n",
       "<table border=\"1\" class=\"dataframe\">\n",
       "  <thead>\n",
       "    <tr style=\"text-align: right;\">\n",
       "      <th></th>\n",
       "      <th>s1</th>\n",
       "    </tr>\n",
       "  </thead>\n",
       "  <tbody>\n",
       "    <tr>\n",
       "      <th>0</th>\n",
       "      <td>-7.599480</td>\n",
       "    </tr>\n",
       "    <tr>\n",
       "      <th>1</th>\n",
       "      <td>-6.249698</td>\n",
       "    </tr>\n",
       "    <tr>\n",
       "      <th>2</th>\n",
       "      <td>-5.407599</td>\n",
       "    </tr>\n",
       "    <tr>\n",
       "      <th>3</th>\n",
       "      <td>-10.219698</td>\n",
       "    </tr>\n",
       "    <tr>\n",
       "      <th>4</th>\n",
       "      <td>-7.709774</td>\n",
       "    </tr>\n",
       "    <tr>\n",
       "      <th>...</th>\n",
       "      <td>...</td>\n",
       "    </tr>\n",
       "    <tr>\n",
       "      <th>95</th>\n",
       "      <td>-9.307952</td>\n",
       "    </tr>\n",
       "    <tr>\n",
       "      <th>96</th>\n",
       "      <td>-4.039883</td>\n",
       "    </tr>\n",
       "    <tr>\n",
       "      <th>97</th>\n",
       "      <td>-0.808748</td>\n",
       "    </tr>\n",
       "    <tr>\n",
       "      <th>98</th>\n",
       "      <td>-12.372714</td>\n",
       "    </tr>\n",
       "    <tr>\n",
       "      <th>99</th>\n",
       "      <td>-7.522159</td>\n",
       "    </tr>\n",
       "  </tbody>\n",
       "</table>\n",
       "<p>100 rows × 1 columns</p>\n",
       "</div>"
      ],
      "text/plain": [
       "           s1\n",
       "0   -7.599480\n",
       "1   -6.249698\n",
       "2   -5.407599\n",
       "3  -10.219698\n",
       "4   -7.709774\n",
       "..        ...\n",
       "95  -9.307952\n",
       "96  -4.039883\n",
       "97  -0.808748\n",
       "98 -12.372714\n",
       "99  -7.522159\n",
       "\n",
       "[100 rows x 1 columns]"
      ]
     },
     "execution_count": 73,
     "metadata": {},
     "output_type": "execute_result"
    }
   ],
   "source": [
    "# Выделение главной компоненты\n",
    "\n",
    "df_S_reduce = df_S.drop(columns = ['s2'])\n",
    "df_S_reduce"
   ]
  },
  {
   "attachments": {},
   "cell_type": "markdown",
   "metadata": {},
   "source": [
    "## Решение может быть неверным если данные не центрированы (центр тяжести точек данных не в центре координат)\n",
    "\n",
    "## Верное решение. Центрирование данных"
   ]
  },
  {
   "cell_type": "code",
   "execution_count": 74,
   "metadata": {},
   "outputs": [
    {
     "data": {
      "text/html": [
       "<div>\n",
       "<style scoped>\n",
       "    .dataframe tbody tr th:only-of-type {\n",
       "        vertical-align: middle;\n",
       "    }\n",
       "\n",
       "    .dataframe tbody tr th {\n",
       "        vertical-align: top;\n",
       "    }\n",
       "\n",
       "    .dataframe thead th {\n",
       "        text-align: right;\n",
       "    }\n",
       "</style>\n",
       "<table border=\"1\" class=\"dataframe\">\n",
       "  <thead>\n",
       "    <tr style=\"text-align: right;\">\n",
       "      <th></th>\n",
       "      <th>x1</th>\n",
       "      <th>x2</th>\n",
       "    </tr>\n",
       "  </thead>\n",
       "  <tbody>\n",
       "    <tr>\n",
       "      <th>0</th>\n",
       "      <td>-0.914428</td>\n",
       "      <td>-0.637580</td>\n",
       "    </tr>\n",
       "    <tr>\n",
       "      <th>1</th>\n",
       "      <td>-1.923331</td>\n",
       "      <td>-1.537061</td>\n",
       "    </tr>\n",
       "    <tr>\n",
       "      <th>2</th>\n",
       "      <td>-2.729408</td>\n",
       "      <td>-1.919897</td>\n",
       "    </tr>\n",
       "    <tr>\n",
       "      <th>3</th>\n",
       "      <td>1.203202</td>\n",
       "      <td>0.947855</td>\n",
       "    </tr>\n",
       "    <tr>\n",
       "      <th>4</th>\n",
       "      <td>-0.806653</td>\n",
       "      <td>-0.589658</td>\n",
       "    </tr>\n",
       "    <tr>\n",
       "      <th>...</th>\n",
       "      <td>...</td>\n",
       "      <td>...</td>\n",
       "    </tr>\n",
       "    <tr>\n",
       "      <th>95</th>\n",
       "      <td>0.926682</td>\n",
       "      <td>-0.068552</td>\n",
       "    </tr>\n",
       "    <tr>\n",
       "      <th>96</th>\n",
       "      <td>-2.927193</td>\n",
       "      <td>-3.663708</td>\n",
       "    </tr>\n",
       "    <tr>\n",
       "      <th>97</th>\n",
       "      <td>-5.890232</td>\n",
       "      <td>-5.263772</td>\n",
       "    </tr>\n",
       "    <tr>\n",
       "      <th>98</th>\n",
       "      <td>2.335203</td>\n",
       "      <td>2.864433</td>\n",
       "    </tr>\n",
       "    <tr>\n",
       "      <th>99</th>\n",
       "      <td>-0.664797</td>\n",
       "      <td>-0.999461</td>\n",
       "    </tr>\n",
       "  </tbody>\n",
       "</table>\n",
       "<p>100 rows × 2 columns</p>\n",
       "</div>"
      ],
      "text/plain": [
       "          x1        x2\n",
       "0  -0.914428 -0.637580\n",
       "1  -1.923331 -1.537061\n",
       "2  -2.729408 -1.919897\n",
       "3   1.203202  0.947855\n",
       "4  -0.806653 -0.589658\n",
       "..       ...       ...\n",
       "95  0.926682 -0.068552\n",
       "96 -2.927193 -3.663708\n",
       "97 -5.890232 -5.263772\n",
       "98  2.335203  2.864433\n",
       "99 -0.664797 -0.999461\n",
       "\n",
       "[100 rows x 2 columns]"
      ]
     },
     "execution_count": 74,
     "metadata": {},
     "output_type": "execute_result"
    }
   ],
   "source": [
    "df['x1'] = df['x1'] - df['x1'].mean()\n",
    "df['x2'] = df['x2'] - df['x2'].mean()\n",
    "df"
   ]
  },
  {
   "cell_type": "code",
   "execution_count": 75,
   "metadata": {},
   "outputs": [
    {
     "data": {
      "image/png": "[encoded data removed]",
      "text/plain": [
       "<Figure size 500x500 with 1 Axes>"
      ]
     },
     "metadata": {},
     "output_type": "display_data"
    }
   ],
   "source": [
    "# Визуализаци данных\n",
    "x = df['x1']\n",
    "y = df['x2']\n",
    "\n",
    "l = min(min(x), min(y))\n",
    "r = max(max(x), max(y))\n",
    "\n",
    "plt.figure(figsize=(5,5))\n",
    "\n",
    "plt.xlim(l,r)\n",
    "plt.ylim(l,r)\n",
    "\n",
    "plt.grid()\n",
    "plt.plot(0,0,'o',color='black')\n",
    "plt.plot(np.arange(l,r+1),np.arange(l,r+1)*0, '-', color='black')\n",
    "plt.plot(np.arange(l,r+1)*0,np.arange(l,r+1), '-', color='black')\n",
    "\n",
    "plt.plot(x, y, 'o')\n",
    "\n",
    "plt.show()"
   ]
  },
  {
   "cell_type": "code",
   "execution_count": 76,
   "metadata": {},
   "outputs": [
    {
     "data": {
      "text/plain": [
       "(array([[-2.27508557e-02, -1.83014799e-02, -7.17195382e-02, ...,\n",
       "         -1.59823749e-01,  6.68661614e-02, -1.98647980e-02],\n",
       "        [-5.04668900e-02, -1.37972526e-02, -4.75257077e-02, ...,\n",
       "          3.91387123e-02, -1.13852205e-01,  5.56809736e-02],\n",
       "        [-6.81318426e-02, -5.25062507e-02,  9.92956644e-01, ...,\n",
       "         -9.37473426e-03, -3.25851689e-04,  1.04933524e-03],\n",
       "        ...,\n",
       "        [-1.61978304e-01,  2.78558995e-02, -9.01363782e-03, ...,\n",
       "          9.73119831e-01,  1.58115909e-02, -5.72110399e-03],\n",
       "        [ 7.45884743e-02, -1.09008179e-01, -7.19595892e-04, ...,\n",
       "          1.52708102e-02,  9.82270840e-01,  7.80985753e-03],\n",
       "        [-2.36884185e-02,  5.42141841e-02,  1.22072405e-03, ...,\n",
       "         -5.43918785e-03,  7.75912570e-03,  9.96465327e-01]]),\n",
       " array([48.75786251,  6.02966878]),\n",
       " array([[ 0.75964542,  0.65033748],\n",
       "        [ 0.65033748, -0.75964542]]))"
      ]
     },
     "execution_count": 76,
     "metadata": {},
     "output_type": "execute_result"
    }
   ],
   "source": [
    "# Сингулярное разложение\n",
    "\n",
    "X = df.to_numpy()\n",
    "\n",
    "U, Sigma, V = np.linalg.svd(X)\n",
    "\n",
    "U, Sigma, V"
   ]
  },
  {
   "cell_type": "code",
   "execution_count": 77,
   "metadata": {},
   "outputs": [
    {
     "data": {
      "image/png": "[encoded data removed]",
      "text/plain": [
       "<Figure size 500x500 with 1 Axes>"
      ]
     },
     "metadata": {},
     "output_type": "display_data"
    }
   ],
   "source": [
    "# Сингулярный базис\n",
    "\n",
    "x = df['x1']\n",
    "y = df['x2']\n",
    "\n",
    "l = min(min(x), min(y))\n",
    "r = max(max(x), max(y))\n",
    "\n",
    "plt.figure(figsize=(5,5))\n",
    "\n",
    "plt.xlim(l,r)\n",
    "plt.ylim(l,r)\n",
    "\n",
    "plt.grid()\n",
    "plt.plot(0,0,'o',color='black')\n",
    "plt.plot(np.arange(l,r+1),np.arange(l,r+1)*0, '-', color='black')\n",
    "plt.plot(np.arange(l,r+1)*0,np.arange(l,r+1), '-', color='black')\n",
    "\n",
    "plt.plot(x, y, 'o')\n",
    "\n",
    "plt.plot(np.arange(l,r+1),(V[0][1]/V[0][0])*np.arange(l,r+1), '-', color='grey')\n",
    "plt.plot(np.arange(l,r+1),(V[1][1]/V[1][0])*np.arange(l,r+1), '-', color='grey')\n",
    "\n",
    "plt.show()"
   ]
  },
  {
   "cell_type": "code",
   "execution_count": 78,
   "metadata": {},
   "outputs": [
    {
     "data": {
      "text/html": [
       "<div>\n",
       "<style scoped>\n",
       "    .dataframe tbody tr th:only-of-type {\n",
       "        vertical-align: middle;\n",
       "    }\n",
       "\n",
       "    .dataframe tbody tr th {\n",
       "        vertical-align: top;\n",
       "    }\n",
       "\n",
       "    .dataframe thead th {\n",
       "        text-align: right;\n",
       "    }\n",
       "</style>\n",
       "<table border=\"1\" class=\"dataframe\">\n",
       "  <thead>\n",
       "    <tr style=\"text-align: right;\">\n",
       "      <th></th>\n",
       "      <th>s1</th>\n",
       "      <th>s2</th>\n",
       "    </tr>\n",
       "  </thead>\n",
       "  <tbody>\n",
       "    <tr>\n",
       "      <th>0</th>\n",
       "      <td>-1.109283</td>\n",
       "      <td>-0.110352</td>\n",
       "    </tr>\n",
       "    <tr>\n",
       "      <th>1</th>\n",
       "      <td>-2.460658</td>\n",
       "      <td>-0.083193</td>\n",
       "    </tr>\n",
       "    <tr>\n",
       "      <th>2</th>\n",
       "      <td>-3.321963</td>\n",
       "      <td>-0.316595</td>\n",
       "    </tr>\n",
       "    <tr>\n",
       "      <th>3</th>\n",
       "      <td>1.530433</td>\n",
       "      <td>0.062454</td>\n",
       "    </tr>\n",
       "    <tr>\n",
       "      <th>4</th>\n",
       "      <td>-0.996247</td>\n",
       "      <td>-0.076665</td>\n",
       "    </tr>\n",
       "    <tr>\n",
       "      <th>...</th>\n",
       "      <td>...</td>\n",
       "      <td>...</td>\n",
       "    </tr>\n",
       "    <tr>\n",
       "      <th>95</th>\n",
       "      <td>0.659368</td>\n",
       "      <td>0.654732</td>\n",
       "    </tr>\n",
       "    <tr>\n",
       "      <th>96</th>\n",
       "      <td>-4.606275</td>\n",
       "      <td>0.879456</td>\n",
       "    </tr>\n",
       "    <tr>\n",
       "      <th>97</th>\n",
       "      <td>-7.897716</td>\n",
       "      <td>0.167962</td>\n",
       "    </tr>\n",
       "    <tr>\n",
       "      <th>98</th>\n",
       "      <td>3.636775</td>\n",
       "      <td>-0.657283</td>\n",
       "    </tr>\n",
       "    <tr>\n",
       "      <th>99</th>\n",
       "      <td>-1.154997</td>\n",
       "      <td>0.326894</td>\n",
       "    </tr>\n",
       "  </tbody>\n",
       "</table>\n",
       "<p>100 rows × 2 columns</p>\n",
       "</div>"
      ],
      "text/plain": [
       "          s1        s2\n",
       "0  -1.109283 -0.110352\n",
       "1  -2.460658 -0.083193\n",
       "2  -3.321963 -0.316595\n",
       "3   1.530433  0.062454\n",
       "4  -0.996247 -0.076665\n",
       "..       ...       ...\n",
       "95  0.659368  0.654732\n",
       "96 -4.606275  0.879456\n",
       "97 -7.897716  0.167962\n",
       "98  3.636775 -0.657283\n",
       "99 -1.154997  0.326894\n",
       "\n",
       "[100 rows x 2 columns]"
      ]
     },
     "execution_count": 78,
     "metadata": {},
     "output_type": "execute_result"
    }
   ],
   "source": [
    "# Переход к сингулярному базису\n",
    "\n",
    "S = np.dot(X, V.T)\n",
    "df_S = pd.DataFrame(S, columns = ['s1', 's2'])\n",
    "df_S"
   ]
  },
  {
   "cell_type": "code",
   "execution_count": 79,
   "metadata": {},
   "outputs": [
    {
     "data": {
      "image/png": "[encoded data removed]",
      "text/plain": [
       "<Figure size 500x500 with 1 Axes>"
      ]
     },
     "metadata": {},
     "output_type": "display_data"
    }
   ],
   "source": [
    "# Визуализаци данных\n",
    "x = df_S['s1']\n",
    "y = df_S['s2']\n",
    "\n",
    "l = min(min(x), min(y))\n",
    "r = max(max(x), max(y))\n",
    "\n",
    "plt.figure(figsize=(5,5))\n",
    "\n",
    "plt.xlim(l,r)\n",
    "plt.ylim(l,r)\n",
    "\n",
    "plt.grid()\n",
    "plt.plot(0,0,'o',color='black')\n",
    "plt.plot(np.arange(l,r+1),np.arange(l,r+1)*0, '-', color='black')\n",
    "plt.plot(np.arange(l,r+1)*0,np.arange(l,r+1), '-', color='black')\n",
    "\n",
    "plt.plot(x, y, 'o')\n",
    "\n",
    "plt.show()"
   ]
  },
  {
   "cell_type": "code",
   "execution_count": 80,
   "metadata": {},
   "outputs": [
    {
     "data": {
      "image/png": "[encoded data removed]",
      "text/plain": [
       "<Figure size 500x500 with 1 Axes>"
      ]
     },
     "metadata": {},
     "output_type": "display_data"
    }
   ],
   "source": [
    "# Проекция данных на главное направление\n",
    "\n",
    "x = df_S['s1']\n",
    "y = df_S['s2']\n",
    "\n",
    "l = min(min(x), min(y))\n",
    "r = max(max(x), max(y))\n",
    "\n",
    "plt.figure(figsize=(5,5))\n",
    "\n",
    "plt.xlim(l,r)\n",
    "plt.ylim(l,r)\n",
    "\n",
    "plt.grid()\n",
    "plt.plot(0,0,'o',color='black')\n",
    "plt.plot(np.arange(l,r+1),np.arange(l,r+1)*0, '-', color='black')\n",
    "plt.plot(np.arange(l,r+1)*0,np.arange(l,r+1), '-', color='black')\n",
    "\n",
    "plt.plot(x, y, 'o')\n",
    "plt.plot(x, y*0, '.', color='red')\n",
    "\n",
    "plt.show()"
   ]
  },
  {
   "cell_type": "code",
   "execution_count": 81,
   "metadata": {},
   "outputs": [
    {
     "data": {
      "text/html": [
       "<div>\n",
       "<style scoped>\n",
       "    .dataframe tbody tr th:only-of-type {\n",
       "        vertical-align: middle;\n",
       "    }\n",
       "\n",
       "    .dataframe tbody tr th {\n",
       "        vertical-align: top;\n",
       "    }\n",
       "\n",
       "    .dataframe thead th {\n",
       "        text-align: right;\n",
       "    }\n",
       "</style>\n",
       "<table border=\"1\" class=\"dataframe\">\n",
       "  <thead>\n",
       "    <tr style=\"text-align: right;\">\n",
       "      <th></th>\n",
       "      <th>s1</th>\n",
       "    </tr>\n",
       "  </thead>\n",
       "  <tbody>\n",
       "    <tr>\n",
       "      <th>0</th>\n",
       "      <td>-1.109283</td>\n",
       "    </tr>\n",
       "    <tr>\n",
       "      <th>1</th>\n",
       "      <td>-2.460658</td>\n",
       "    </tr>\n",
       "    <tr>\n",
       "      <th>2</th>\n",
       "      <td>-3.321963</td>\n",
       "    </tr>\n",
       "    <tr>\n",
       "      <th>3</th>\n",
       "      <td>1.530433</td>\n",
       "    </tr>\n",
       "    <tr>\n",
       "      <th>4</th>\n",
       "      <td>-0.996247</td>\n",
       "    </tr>\n",
       "    <tr>\n",
       "      <th>...</th>\n",
       "      <td>...</td>\n",
       "    </tr>\n",
       "    <tr>\n",
       "      <th>95</th>\n",
       "      <td>0.659368</td>\n",
       "    </tr>\n",
       "    <tr>\n",
       "      <th>96</th>\n",
       "      <td>-4.606275</td>\n",
       "    </tr>\n",
       "    <tr>\n",
       "      <th>97</th>\n",
       "      <td>-7.897716</td>\n",
       "    </tr>\n",
       "    <tr>\n",
       "      <th>98</th>\n",
       "      <td>3.636775</td>\n",
       "    </tr>\n",
       "    <tr>\n",
       "      <th>99</th>\n",
       "      <td>-1.154997</td>\n",
       "    </tr>\n",
       "  </tbody>\n",
       "</table>\n",
       "<p>100 rows × 1 columns</p>\n",
       "</div>"
      ],
      "text/plain": [
       "          s1\n",
       "0  -1.109283\n",
       "1  -2.460658\n",
       "2  -3.321963\n",
       "3   1.530433\n",
       "4  -0.996247\n",
       "..       ...\n",
       "95  0.659368\n",
       "96 -4.606275\n",
       "97 -7.897716\n",
       "98  3.636775\n",
       "99 -1.154997\n",
       "\n",
       "[100 rows x 1 columns]"
      ]
     },
     "execution_count": 81,
     "metadata": {},
     "output_type": "execute_result"
    }
   ],
   "source": [
    "# Выделение главной компоненты\n",
    "\n",
    "df_S_reduce = df_S.drop(columns = ['s2'])\n",
    "df_S_reduce"
   ]
  },
  {
   "cell_type": "code",
   "execution_count": null,
   "metadata": {},
   "outputs": [],
   "source": []
  }
 ],
 "metadata": {
  "kernelspec": {
   "display_name": "Python 3",
   "language": "python",
   "name": "python3"
  },
  "language_info": {
   "codemirror_mode": {
    "name": "ipython",
    "version": 3
   },
   "file_extension": ".py",
   "mimetype": "text/x-python",
   "name": "python",
   "nbconvert_exporter": "python",
   "pygments_lexer": "ipython3",
   "version": "3.11.3"
  },
  "orig_nbformat": 4
 },
 "nbformat": 4,
 "nbformat_minor": 2
}
